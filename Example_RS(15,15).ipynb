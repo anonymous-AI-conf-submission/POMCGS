{
 "cells": [
  {
   "cell_type": "markdown",
   "metadata": {},
   "source": [
    "### 0. Install Julia and POMDP.jl\n",
    "\n",
    "Please first install Julia and POMDP.jl (https://github.com/JuliaPOMDP/POMDPs.jl)."
   ]
  },
  {
   "cell_type": "markdown",
   "metadata": {},
   "source": [
    "### 1. Include Julia packages and load the problem\n",
    "Several POMDP julia packages such as \"POMDPTools, POMDPModels\" are already included in planner.jl.\n",
    "\n",
    "If there is an error about uninstalled packages, please install them with \"pkg.add()\"."
   ]
  },
  {
   "cell_type": "code",
   "execution_count": null,
   "metadata": {},
   "outputs": [],
   "source": [
    "include(\"./NaivePOMCGS/Planner.jl\")\n",
    "using Plots\n",
    "using RockSample\n",
    "\n",
    "pomdp = RockSamplePOMDP(15,15)\n",
    "pb_name = \"RS1515\"\n",
    "action_space = collect(actions(pomdp))\n",
    "b0 = initialstate(pomdp)"
   ]
  },
  {
   "cell_type": "markdown",
   "metadata": {},
   "source": [
    "### 2. Define parameters"
   ]
  },
  {
   "cell_type": "code",
   "execution_count": null,
   "metadata": {},
   "outputs": [],
   "source": [
    "max_planning_secs = 20000\n",
    "nb_process_samples = 20000\n",
    "c = 2.0\n",
    "max_belief_gap = 0.3\n",
    "epsilon = 0.01\n",
    "nb_runs = 10"
   ]
  },
  {
   "cell_type": "markdown",
   "metadata": {},
   "source": [
    "## 3. Repeatedly Evaluate POMCGS (10 runs)"
   ]
  },
  {
   "cell_type": "code",
   "execution_count": null,
   "metadata": {},
   "outputs": [],
   "source": [
    "for i in 1:nb_runs\n",
    "    # Define Q learning\n",
    "    Q_table = Dict{Any, Dict{Int64, Float64}}()\n",
    "    V_table = Dict{Any, Float64}()\n",
    "    learning_rate = 0.9\n",
    "    explore_rate = 0.65\n",
    "    nb_particles_b0 = nb_process_samples\n",
    "    b0_particles = []\n",
    "    for i in 1:nb_particles_b0\n",
    "        push!(b0_particles, rand(b0))\n",
    "    end\n",
    "    Q_learning_policy = Qlearning(Q_table, V_table, learning_rate, explore_rate, action_space, typemin(Float64), typemax(Float64))\n",
    "    RL = FindRLower(pomdp, b0, action_space)\n",
    "    \n",
    "    # Train Q-learning\n",
    "    nb_episode_size = 10\n",
    "    nb_max_episode = 10\n",
    "    nb_sim = 20\n",
    "    epsilon_Q_learning = 0.1\n",
    "    Training(Q_learning_policy, nb_episode_size, nb_max_episode, nb_sim, epsilon_Q_learning, b0_particles, pomdp)\n",
    "\n",
    "    # Init Planner\n",
    "    planner = NaivePlannerPOMCGS(RL, Q_learning_policy)\n",
    "    planner._max_planning_secs = max_planning_secs\n",
    "    InitPlannerParameters(planner, nb_process_samples, max_belief_gap, c, discount(pomdp), epsilon)\n",
    "    particles_b0, dict_weighted_b0, action_space = InitPOMDP(pomdp, b0, nb_particles_b0)\n",
    "    fsc = InitFSC(max_belief_gap, planner._max_graph_node_size, action_space)\n",
    "\n",
    "    # POMCG's main search  \n",
    "    Search(pomdp, particles_b0, dict_weighted_b0, fsc, planner)\n",
    "\n",
    "    # Export Results\n",
    "    result_nodes_list = Prunning(fsc)\n",
    "    final_fsc_length = length(result_nodes_list)\n",
    "    outname = pb_name*string.(final_fsc_length)*\"nbsamples\"*string.(nb_process_samples)\n",
    "    ExportLogData(planner, outname)\n",
    "end"
   ]
  },
  {
   "cell_type": "code",
   "execution_count": null,
   "metadata": {},
   "outputs": [],
   "source": []
  }
 ],
 "metadata": {
  "kernelspec": {
   "display_name": "Julia 1.9.4",
   "language": "julia",
   "name": "julia-1.9"
  },
  "language_info": {
   "file_extension": ".jl",
   "mimetype": "application/julia",
   "name": "julia",
   "version": "1.9.4"
  }
 },
 "nbformat": 4,
 "nbformat_minor": 4
}
