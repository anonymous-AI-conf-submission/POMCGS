{
 "cells": [
  {
   "cell_type": "markdown",
   "metadata": {},
   "source": [
    "### 0. Install Julia and POMDP.jl\n",
    "\n",
    "Please first install Julia and POMDP.jl (https://github.com/JuliaPOMDP/POMDPs.jl).\n"
   ]
  },
  {
   "cell_type": "markdown",
   "metadata": {},
   "source": [
    "### 1. Include Julia packages\n",
    "Several POMDP julia packages such as \"POMDPTools, POMDPModels\" are already included in planner.jl.\n",
    "\n",
    "If there is an error about uninstalled packages, please install them with \"pkg.add()\"."
   ]
  },
  {
   "cell_type": "code",
   "execution_count": null,
   "metadata": {},
   "outputs": [],
   "source": [
    "include(\"./ContinuousPOMCGS/Planner.jl\")\n",
    "# --- Light Dark ---\n",
    "pomdp = LightDark1D()"
   ]
  },
  {
   "cell_type": "markdown",
   "metadata": {},
   "source": [
    "### 2. Define parameters"
   ]
  },
  {
   "cell_type": "code",
   "execution_count": null,
   "metadata": {},
   "outputs": [],
   "source": [
    "b0 = initialstate(pomdp) # Get POMDP's initial belief\n",
    "nb_process_samples = 50000\n",
    "state_grid_distance = [1.0, 1.0]\n",
    "max_b_gap = 0.1\n",
    "nb_particles_b0 = nb_process_samples\n",
    "c = 2.0\n",
    "max_planning_secs = 3600\n",
    "nb_abstract_obs = 10\n",
    "epsilon = 0.01\n",
    "particles_b0, init_map_b0_d2c_states, dict_weighted_b0, action_space = InitElemPOMDP(pomdp, b0, state_grid_distance, nb_particles_b0)\n",
    "rmin, a_rmin = FindRLower(pomdp, b0, action_space)"
   ]
  },
  {
   "cell_type": "markdown",
   "metadata": {},
   "source": [
    "### 3. Prepare $V_{mdp}$\n",
    "\n",
    "Here we use a Q-learning algorithm to compute $V_{MDP}$, one can also use other MDP solvers."
   ]
  },
  {
   "cell_type": "code",
   "execution_count": null,
   "metadata": {},
   "outputs": [],
   "source": [
    "Q_table = Dict{Any, Dict{Int64, Float64}}()\n",
    "V_table = Dict{Any, Float64}()\n",
    "learning_rate = 0.9\n",
    "explore_rate = 0.7\n",
    "Vmdp = Qlearning(Q_table, V_table, learning_rate, explore_rate, action_space, typemin(Float64), typemax(Float64))\n",
    "nb_episode_size = 100\n",
    "nb_max_episode = 30\n",
    "nb_sim = 20\n",
    "Training(Vmdp, nb_episode_size, nb_max_episode, nb_sim, epsilon, particles_b0, pomdp, state_grid_distance)"
   ]
  },
  {
   "cell_type": "markdown",
   "metadata": {},
   "source": [
    "### 4. Init POMCGS and run the solver"
   ]
  },
  {
   "cell_type": "code",
   "execution_count": null,
   "metadata": {},
   "outputs": [],
   "source": [
    "# --- 1: Define POMCGS and fsc ---\n",
    "planner = ContinuousPlannerPOMCGS(rmin, Vmdp)\n",
    "InitPlannerParameters(planner, \n",
    "                    nb_process_samples, \n",
    "                    max_b_gap,\n",
    "                    c,\n",
    "                    discount(pomdp),\n",
    "                    nb_abstract_obs,\n",
    "                    true,\n",
    "                    state_grid_distance,\n",
    "                    epsilon)\n",
    "fsc = InitFSC(max_b_gap, planner._max_graph_node_size, action_space)\n",
    "fsc._map_discrete2continuous_states = init_map_b0_d2c_states\n",
    "planner._bool_APW = false"
   ]
  },
  {
   "cell_type": "code",
   "execution_count": null,
   "metadata": {
    "scrolled": true
   },
   "outputs": [],
   "source": [
    "# --- 2: Graph Search ---\n",
    "Search(pomdp, particles_b0, dict_weighted_b0, fsc, planner, max_planning_secs)"
   ]
  },
  {
   "cell_type": "markdown",
   "metadata": {},
   "source": [
    "### 5. Simulate the computed FSC"
   ]
  },
  {
   "cell_type": "code",
   "execution_count": null,
   "metadata": {},
   "outputs": [],
   "source": [
    "SimulationFSC(b0, pomdp, fsc, discount(pomdp), planner)"
   ]
  },
  {
   "cell_type": "markdown",
   "metadata": {},
   "source": [
    "### 6. Evaluate the computed FSC"
   ]
  },
  {
   "cell_type": "code",
   "execution_count": null,
   "metadata": {},
   "outputs": [],
   "source": [
    "nb_eval = 100000\n",
    "EvaluationWithSimulationFSC(pomdp, fsc, discount(pomdp), nb_eval, planner)"
   ]
  },
  {
   "cell_type": "code",
   "execution_count": null,
   "metadata": {},
   "outputs": [],
   "source": []
  }
 ],
 "metadata": {
  "kernelspec": {
   "display_name": "Julia 1.9.4",
   "language": "julia",
   "name": "julia-1.9"
  },
  "language_info": {
   "file_extension": ".jl",
   "mimetype": "application/julia",
   "name": "julia",
   "version": "1.9.4"
  }
 },
 "nbformat": 4,
 "nbformat_minor": 4
}
